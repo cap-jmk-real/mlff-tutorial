{
 "cells": [
  {
   "cell_type": "markdown",
   "id": "e612a1ce-eb7c-4327-a310-e151b7503b3b",
   "metadata": {},
   "source": [
    "# Prepare a simulation sample \n",
    "\n",
    "To run this notebook create a conda environment \n",
    "```bash\n",
    "conda create -n mlfftutorial -c conda-forge\n",
    "conda activate mlfftutorial\n",
    "conda install -c conda-forge openmm openmmforcefields nglview\n",
    "pip install mond\n",
    "```\n",
    "Soon there will be a plain pip version as well. But for now this has to suffice. \n",
    "\n",
    "As a first step, we are packing a simulation sample using a Monte-Carlo docking scheme based on van-der-Waals radii of the atoms to avoid clashes"
   ]
  },
  {
   "cell_type": "code",
   "execution_count": 1,
   "id": "296da1a7",
   "metadata": {},
   "outputs": [
    {
     "name": "stdout",
     "output_type": "stream",
     "text": [
      "1 molecules added\n",
      "2 molecules added\n",
      "3 molecules added\n",
      "4 molecules added\n",
      "5 molecules added\n",
      "6 molecules added\n",
      "7 molecules added\n",
      "8 molecules added\n",
      "9 molecules added\n",
      "10 molecules added\n",
      "11 molecules added\n",
      "12 molecules added\n",
      "13 molecules added\n",
      "14 molecules added\n",
      "15 molecules added\n",
      "16 molecules added\n",
      "17 molecules added\n",
      "18 molecules added\n",
      "19 molecules added\n"
     ]
    }
   ],
   "source": [
    "## Packing a Simulation Sample \n",
    "\n",
    "import numpy as np\n",
    "from rdkit import Chem\n",
    "from rdkit.Chem import AllChem\n",
    "\n",
    "from mond.utils import check_overlaps_vectorized, create_molecule_from_smiles, random_pose, load_rdmol_from_xyz, get_coordinates, get_vdw_radii\n",
    "from mond.molecule.molecule import Molecule, MoleculeCollection\n",
    "from copy import deepcopy\n",
    "from mond.packing import pack_molecules_in_box, pack_molecules_to_existing_collection\n",
    "from mond.utils import get_splitted_collection_from_joined_smiles_mol\n",
    "from mond.openmm import simulate_sample\n",
    "\n",
    "bounding_box = [10,10,10] #in angstrom for openmm\n",
    "probs = [0.5, 0.5]\n",
    "max_molecules = 500 # Choose any number. Is set such that the packing terminates reasonably\n",
    "max_tries = 100000 # considerable time factor\n",
    "safety_distance = -0.3 #additional buffer in angstrom, can also be used to increase the density\n",
    "smiles_1 = \"O\" #need to start from smiles\n",
    "smiles_2 = \"CCO\"\n",
    "\n",
    "molec1 = create_molecule_from_smiles(smiles=smiles_1)\n",
    "molec2 = create_molecule_from_smiles(smiles=smiles_2)\n",
    "molecules_in_mixture = [molec1, molec2]\n",
    "\n",
    "coll = pack_molecules_in_box(\n",
    "    molecules_in_mixture=molecules_in_mixture,\n",
    "    probs=probs, \n",
    "    bounding_box=bounding_box, \n",
    "    safety_distance=safety_distance,\n",
    "    max_molecules=max_molecules,\n",
    "    max_tries=max_tries)\n",
    "\n",
    "sdf_file = f\"packed_sample_iteration_1.sdf\"\n",
    "coll.save_to_sdf(sdf_file)\n",
    "pdb_file = f\"packed_sample_iteration_1.pdb\"\n",
    "coll.save_to_pdb(pdb_file)"
   ]
  },
  {
   "cell_type": "markdown",
   "id": "85547590",
   "metadata": {},
   "source": [
    "## Making the packing more dense\n",
    "\n",
    "To obtain a more dense sample, we simulate a MD simulation using OpenMM for 5000 steps and then keep adding molecules using the MC algorithm based on atomic radii. "
   ]
  },
  {
   "cell_type": "code",
   "execution_count": 6,
   "id": "c5a09ba8",
   "metadata": {},
   "outputs": [
    {
     "name": "stdout",
     "output_type": "stream",
     "text": [
      "=============Iteration 1=============\n",
      "=============MD Simulation=============\n",
      "/home/julian/miniforge3/envs/mlfftutorial/lib/python3.11/site-packages/openforcefields/offxml/openff-2.1.0.offxml\n",
      "Minimizing energy...\n",
      "Running simulation...\n",
      "#\"Step\",\"Potential Energy (kJ/mole)\",\"Temperature (K)\",\"Speed (ns/day)\"\n",
      "1000,-663.6423753407976,278.4001854003637,0\n",
      "2000,-654.8543755560917,348.431947239249,60.8\n",
      "3000,-660.3324704203011,293.70239670573113,61.5\n",
      "4000,-690.7929139729529,304.1942629923053,61.5\n",
      "5000,-684.6985134268429,318.96359072259526,61.7\n",
      "=============MC Simulation=============\n",
      "0 molecules added\n",
      "1 molecules added\n",
      "2 molecules added\n",
      "3 molecules added\n",
      "=============Iteration 2=============\n",
      "=============MD Simulation=============\n",
      "/home/julian/miniforge3/envs/mlfftutorial/lib/python3.11/site-packages/openforcefields/offxml/openff-2.1.0.offxml\n",
      "Minimizing energy...\n",
      "Running simulation...\n",
      "#\"Step\",\"Potential Energy (kJ/mole)\",\"Temperature (K)\",\"Speed (ns/day)\"\n",
      "1000,-859.9706469289237,334.63058066820497,0\n",
      "2000,-899.2848013376333,352.441931893325,60.3\n",
      "3000,-888.0252835014778,281.2546300921627,62.2\n",
      "4000,-912.2568479971087,271.579484595423,61.9\n",
      "5000,-917.2325825483173,285.2087124092735,62\n",
      "=============MC Simulation=============\n",
      "0 molecules added\n",
      "1 molecules added\n",
      "2 molecules added\n",
      "=============Iteration 3=============\n",
      "=============MD Simulation=============\n",
      "/home/julian/miniforge3/envs/mlfftutorial/lib/python3.11/site-packages/openforcefields/offxml/openff-2.1.0.offxml\n",
      "Minimizing energy...\n",
      "Running simulation...\n",
      "#\"Step\",\"Potential Energy (kJ/mole)\",\"Temperature (K)\",\"Speed (ns/day)\"\n",
      "1000,-939.8563911163728,287.3995594629171,0\n",
      "2000,-1006.6966938389176,308.5471870670154,61.4\n",
      "3000,-970.1250004865552,320.7577093870001,62.2\n",
      "4000,-941.4057078421691,303.8633823350884,62\n",
      "5000,-900.0582787104181,274.8224253577259,62\n",
      "=============MC Simulation=============\n",
      "0 molecules added\n"
     ]
    }
   ],
   "source": [
    "from mond.openmm import simulate_with_small_cutoff_LJPME\n",
    "from mond.utils import get_splitted_collection_from_joined_smiles_mol\n",
    "from mond.packing import pack_molecules_in_box, pack_molecules_to_existing_collection\n",
    "\n",
    "bounding_box_simulation = [1,1,1] #nm\n",
    "bounding_box_packing = [10,10,10] #Angstrom\n",
    "cutoff=0.4 #nm\n",
    "simulation_steps = 5000\n",
    "report_every_steps = 10\n",
    "print_report_every_steps = 1000\n",
    "temperature=300\n",
    "velocity_init_temperature=300\n",
    "time_step = 0.002 #picoseconds\n",
    "minimization_steps = 1000\n",
    "force_field = \"amber/protein.ff14SB.xml\"\n",
    "water_model = \"amber/tip3p_standard.xml\"\n",
    "\n",
    "counter = 1\n",
    "keep_adding = True\n",
    "while keep_adding: \n",
    "    print(f\"=============Iteration {counter}=============\")\n",
    "    sdf_file = f\"packed_sample_iteration_{counter}.sdf\"\n",
    "    out_file_state=f\"simulated_iteration_{counter}.pdb\"\n",
    "    out_traj_name =f\"simulation_step_{counter}\"\n",
    "    print(\"=============MD Simulation=============\")\n",
    "    simulate_with_small_cutoff_LJPME(\n",
    "        sdf_file=sdf_file,\n",
    "        out_file_state=out_file_state,\n",
    "        out_traj_name=out_traj_name, \n",
    "        box_vectors=bounding_box_simulation,\n",
    "        simulation_steps=simulation_steps, \n",
    "        report_every_steps=report_every_steps, \n",
    "        cutoff=cutoff,\n",
    "        print_report_every_steps=print_report_every_steps, \n",
    "        temperature = temperature, \n",
    "        velocity_init_temperature=velocity_init_temperature, \n",
    "        timestep = time_step,\n",
    "        minimization_steps= minimization_steps,\n",
    "        force_field = force_field,\n",
    "        water_model= water_model,\n",
    "    )\n",
    "    counter += 1\n",
    "    mol = Chem.MolFromPDBFile(out_file_state, removeHs=False)\n",
    "    coords = get_coordinates(mol)\n",
    "    radii = get_vdw_radii(mol)\n",
    "    splitted_coll = get_splitted_collection_from_joined_smiles_mol(mol, coords, radii)\n",
    "    print(\"=============MC Simulation=============\")\n",
    "    coll, molecules_added = pack_molecules_to_existing_collection(\n",
    "        coll = splitted_coll, \n",
    "        molecules_in_mixture=molecules_in_mixture,\n",
    "        probs=probs, \n",
    "        bounding_box=bounding_box, \n",
    "        safety_distance=safety_distance,\n",
    "        max_molecules=max_molecules,\n",
    "        max_tries=max_tries)\n",
    "    \n",
    "    sdf_file = f\"packed_sample_iteration_{counter}.sdf\"\n",
    "    coll.save_to_sdf(sdf_file)\n",
    "    if molecules_added == 0: \n",
    "        keep_adding = False"
   ]
  },
  {
   "cell_type": "markdown",
   "id": "4dbe9a41",
   "metadata": {},
   "source": [
    "## Visualize Sample \n",
    "\n",
    "Lets visualize the simulation trajectory of our dense sample using `nglview`"
   ]
  },
  {
   "cell_type": "code",
   "execution_count": 7,
   "id": "93ba1d51",
   "metadata": {},
   "outputs": [
    {
     "data": {
      "application/vnd.jupyter.widget-view+json": {
       "model_id": "4f9b34468e0e4bacb680d11d4d78486d",
       "version_major": 2,
       "version_minor": 0
      },
      "text/plain": [
       "NGLWidget(max_frame=499)"
      ]
     },
     "metadata": {},
     "output_type": "display_data"
    }
   ],
   "source": [
    "import nglview as nv\n",
    "import mdtraj as md\n",
    "\n",
    "# Load PDB as topology and DCD as trajectory\n",
    "traj = md.load(\"simulation_step_3.dcd\", top=\"simulation_step_3.pdb\")\n",
    "view = nv.show_mdtraj(traj)\n",
    "view"
   ]
  },
  {
   "cell_type": "markdown",
   "id": "d5e343e8",
   "metadata": {},
   "source": []
  }
 ],
 "metadata": {
  "kernelspec": {
   "display_name": "mlfftutorial",
   "language": "python",
   "name": "python3"
  },
  "language_info": {
   "codemirror_mode": {
    "name": "ipython",
    "version": 3
   },
   "file_extension": ".py",
   "mimetype": "text/x-python",
   "name": "python",
   "nbconvert_exporter": "python",
   "pygments_lexer": "ipython3",
   "version": "3.11.13"
  }
 },
 "nbformat": 4,
 "nbformat_minor": 5
}
