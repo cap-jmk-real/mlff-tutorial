{
 "cells": [
  {
   "cell_type": "markdown",
   "id": "f648205c",
   "metadata": {},
   "source": [
    "# Tutorial 4 - Running a simulation with the MLFF \n",
    "\n",
    "You made it this far. Good job! Now the final test, can we run a simulation with the MLFF? For MLFFs the long term stability is determining whether or not it is a good force field, so we will simulate for some time. But first, lets set up our environment. \n",
    "\n",
    "## Setting up the environment \n",
    "\n"
   ]
  },
  {
   "cell_type": "code",
   "execution_count": null,
   "id": "d0e1bece",
   "metadata": {
    "vscode": {
     "languageId": "plaintext"
    }
   },
   "outputs": [],
   "source": [
    "import torch\n",
    "from torch_geometric.data import Data\n",
    "\n",
    "def create_datapoint_from_coll(coll):\n",
    "    \"\"\"\n",
    "    Create a single PyG Data object from a molecule collection-like object.\n",
    "    Assumes:\n",
    "        - coll.get_atom_coords_list() returns shape (N, 3)\n",
    "        - coll.get_atom_numbers() returns shape (N,)\n",
    "    \"\"\"\n",
    "    pos = torch.tensor(coll.coordinates, dtype=torch.float64)  # shape (N, 3)\n",
    "    z = torch.tensor(coll.get_atom_numbers(), dtype=torch.float64)        # shape (N,)\n",
    "\n",
    "    num_atoms = pos.shape[0]\n",
    "    row, col = torch.meshgrid(\n",
    "        torch.arange(num_atoms), torch.arange(num_atoms), indexing=\"ij\"\n",
    "    )\n",
    "    edge_index = torch.stack([row.flatten(), col.flatten()], dim=0)       # shape (2, N^2)\n",
    "\n",
    "    edge_vec = pos[edge_index[0]] - pos[edge_index[1]]                    # (num_edges, 3)\n",
    "    edge_attr = edge_vec.norm(dim=1, keepdim=True)                        # (num_edges, 1)\n",
    "    edge_attr = torch.cat([edge_vec, edge_attr], dim=1)                   # (num_edges, 4)\n",
    "\n",
    "    return Data(\n",
    "        pos=pos,\n",
    "        z=z.unsqueeze(1).double(),      # [N, 1]\n",
    "        edge_index=edge_index,          # [2, num_edges]\n",
    "        edge_attr=edge_attr,            # [num_edges, 4]\n",
    "        edge_vec=edge_vec               # [num_edges, 3]\n",
    "    )"
   ]
  },
  {
   "cell_type": "code",
   "execution_count": null,
   "id": "8056e690",
   "metadata": {
    "vscode": {
     "languageId": "plaintext"
    }
   },
   "outputs": [],
   "source": [
    "from mond.molecule import MoleculeCollection\n",
    "from mond.utils import create_molecule_from_smiles, random_pose\n",
    "\n",
    "bounding_box = [10, 10, 10] # In angstrom\n",
    "\n",
    "mol_smiles = \"CO\"\n",
    "molec = create_molecule_from_smiles(mol_smiles)\n",
    "new_coords = random_pose(molec.coordinates, bounding_box)\n",
    "molec.set_mol_conf_coordinates(new_coords)\n",
    "coll = MoleculeCollection([molec])"
   ]
  },
  {
   "cell_type": "code",
   "execution_count": null,
   "id": "ac33788c",
   "metadata": {
    "vscode": {
     "languageId": "plaintext"
    }
   },
   "outputs": [],
   "source": [
    "data_point = create_datapoint_from_coll(coll)"
   ]
  },
  {
   "cell_type": "code",
   "execution_count": null,
   "id": "51ab2ea9",
   "metadata": {
    "vscode": {
     "languageId": "plaintext"
    }
   },
   "outputs": [],
   "source": [
    "data_point"
   ]
  },
  {
   "cell_type": "markdown",
   "id": "e345ccd5",
   "metadata": {},
   "source": [
    "## Verlet Integration \n",
    "\n",
    "We are going to solve the equations of motion (EOMs) with the Verlet integration. For the sake of completeness you could add a Thermostat, e.g. the Berendsen-Thermostat. AI Coding tools do a good job here. "
   ]
  },
  {
   "cell_type": "code",
   "execution_count": null,
   "id": "f2aed3ff",
   "metadata": {
    "vscode": {
     "languageId": "plaintext"
    }
   },
   "outputs": [],
   "source": [
    "def get_forces_mlff(data_point, model):\n",
    "    forces = model(data_point)\n",
    "    return forces.detach().numpy()"
   ]
  },
  {
   "cell_type": "code",
   "execution_count": null,
   "id": "8ab85a04",
   "metadata": {
    "vscode": {
     "languageId": "plaintext"
    }
   },
   "outputs": [],
   "source": [
    "def velocity_verlet_step_mlff(\n",
    "    model,\n",
    "    data_point, \n",
    "    positions, \n",
    "    velocities, \n",
    "    forces, \n",
    "    masses, \n",
    "    box_lengths, \n",
    "    dt, \n",
    "    periodic_boundary):\n",
    "    \"\"\"\n",
    "    Ein Velocity-Verlet-Schritt mit gleicher Masse für alle Teilchen.\n",
    "    \n",
    "    Parameters\n",
    "    ----------\n",
    "    positions : (N, 3)\n",
    "    velocities : (N, 3)\n",
    "    forces : (N, 3)\n",
    "    masses : (N,) - Massen der Teilchen\n",
    "    epsilon : float\n",
    "    sigma : float\n",
    "    \"\"\"\n",
    "    masses = np.array(masses)\n",
    "    acc = forces / masses[:, np.newaxis]\n",
    "\n",
    "\n",
    "    positions += velocities * dt + 0.5 * acc * dt**2\n",
    "    if periodic_boundary == True: \n",
    "        positions %= box_lengths  # PBC\n",
    "\n",
    "    new_forces = get_forces_mlff(\n",
    "        data_point=data_point, \n",
    "        model=model)\n",
    "    new_acc = new_forces / masses[:, np.newaxis]\n",
    "    velocities = velocities + 0.5 * (acc + new_acc) * dt\n",
    "    assert np.sum(np.isnan(velocities))==0, \"Velocities contain NaN values\"\n",
    "    return positions, velocities, new_forces"
   ]
  },
  {
   "cell_type": "code",
   "execution_count": null,
   "id": "767c41a7",
   "metadata": {
    "vscode": {
     "languageId": "plaintext"
    }
   },
   "outputs": [],
   "source": [
    "import numpy as np \n",
    "\n",
    "from ase.md.velocitydistribution import MaxwellBoltzmannDistribution, Stationary\n",
    "\n",
    "from tqdm import tqdm\n",
    "\n",
    "from mond.molecule import Molecule, MoleculeCollection\n",
    "from mond.utils import create_molecule_from_smiles, random_pose\n",
    "from mond.simulation.aimd import init_traj, append_to_traj, initialize_velocities\n",
    "from mond.utils import get_atomic_masses\n",
    "\n",
    "bounding_box = [10, 10, 10] # In angstrom\n",
    "\n",
    "mol_smiles = \"CO\"\n",
    "molec = create_molecule_from_smiles(mol_smiles)\n",
    "new_coords = random_pose(molec.coordinates, bounding_box)\n",
    "molec.set_mol_conf_coordinates(new_coords)\n",
    "coll = MoleculeCollection([molec])\n",
    "\n",
    "traj_file=\"methanol_mlff_data_aug_traj.xyz\"\n",
    "box_lengths = np.array(bounding_box)\n",
    "atom_symbols = coll.get_atom_symbols()\n",
    "masses = get_atomic_masses(atom_symbols)\n",
    "dt = 0.05 #fs\n",
    "temp_init = 298.5 #temperature intialization\n",
    "temp_thermostat =0\n",
    "periodic_boundary = False\n",
    "num_steps = 10000 \n",
    "positions = coll.get_atom_coords_list()\n",
    "print(\"Initial positions\")\n",
    "print(positions)\n",
    "#model \n",
    "model_path = \"mpnn_full_model_data_aug_SiLU_5000.pth\"\n",
    "model = torch.load(model_path, map_location=\"cpu\", weights_only=False)\n",
    "#intialization\n",
    "data_point = create_datapoint_from_coll(coll)\n",
    "velocities = initialize_velocities(atom_masses=masses, temp=temp_init, remove_drift=True)\n",
    "new_forces =  get_forces_mlff(\n",
    "    data_point=data_point,\n",
    "    model = model)\n",
    "# initialize trajectory \n",
    "print(new_forces)\n",
    "init_traj(traj_file)\n",
    "#one step\n",
    "for i in tqdm(range(num_steps), desc=\"Running AIMD\"): \n",
    "    \n",
    "    positions, velocities, new_forces = velocity_verlet_step_mlff(\n",
    "        model=model,\n",
    "        data_point=data_point, \n",
    "        positions=positions, \n",
    "        velocities=velocities, \n",
    "        forces=new_forces, \n",
    "        masses=masses, \n",
    "        box_lengths=box_lengths, \n",
    "        dt=dt, \n",
    "        periodic_boundary=periodic_boundary\n",
    "    )\n",
    "    append_to_traj(\n",
    "        traj_file = traj_file, \n",
    "        positions = positions.tolist(), \n",
    "        symbols=atom_symbols\n",
    "    )\n",
    "    coll.coordinates = positions\n",
    "    data_point = create_datapoint_from_coll(coll)"
   ]
  }
 ],
 "metadata": {
  "kernelspec": {
   "display_name": "Python 3 (ipykernel)",
   "language": "python",
   "name": "python3"
  },
  "language_info": {
   "codemirror_mode": {
    "name": "ipython",
    "version": 3
   },
   "file_extension": ".py",
   "mimetype": "text/x-python",
   "name": "python",
   "nbconvert_exporter": "python",
   "pygments_lexer": "ipython3",
   "version": "3.13.5"
  }
 },
 "nbformat": 4,
 "nbformat_minor": 5
}
